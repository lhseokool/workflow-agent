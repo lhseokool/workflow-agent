{
 "cells": [
  {
   "cell_type": "code",
   "execution_count": null,
   "id": "c5f208dd",
   "metadata": {},
   "outputs": [
    {
     "name": "stdout",
     "output_type": "stream",
     "text": [
      "{\"flow_name\": \"ContentCreationPipeline\", \"type\": \"Sequential\", \"sub_agents\": [{\"flow\": {\"flow_name\": \"ConcurrentContentCreation\", \"type\": \"Parallel\", \"sub_agents\": [{\"agent_name\": \"텍스트작성Agent\"}, {\"agent_name\": \"이미지생성Agent\"}, {\"agent_name\": \"동영상편집Agent\"}]}}, {\"agent_name\": \"콘텐츠통합Agent\"}]}\n"
     ]
    }
   ],
   "source": [
    "from langchain_openai import ChatOpenAI\n",
    "from langchain_core.output_parsers import StrOutputParser\n",
    "from langchain_core.prompts import ChatPromptTemplate\n",
    "from prompts import JSON_PROMPT\n",
    "\n",
    "llm = ChatOpenAI(model=\"gpt-4o-mini\", temperature=0.0)\n",
    "parser = StrOutputParser() \n",
    "prompt = ChatPromptTemplate.from_template(JSON_PROMPT)\n",
    "json_chain =  prompt | llm | parser\n",
    "\n",
    "\n",
    "test_instruction = \"콘텐츠 제작을 효율적으로 하는 시스템을 구축해줘. {텍스트작성Agent}, {이미지생성Agent}, {동영상편집Agent}가 동시에 작업하고 {콘텐츠통합Agent}가 최종 결과물을 만들도록 해\"\n",
    "result = json_chain.invoke({\"instruction\": test_instruction})\n",
    "print(result)"
   ]
  },
  {
   "cell_type": "markdown",
   "id": "8e6820ea",
   "metadata": {},
   "source": [
    "## JsonOutputParser"
   ]
  },
  {
   "cell_type": "code",
   "execution_count": 5,
   "id": "fae7be6e",
   "metadata": {},
   "outputs": [
    {
     "name": "stdout",
     "output_type": "stream",
     "text": [
      "{'flow_name': 'ContentCreationPipeline', 'type': 'Sequential', 'sub_agents': [{'flow': {'flow_name': 'ConcurrentContentCreation', 'type': 'Parallel', 'sub_agents': [{'agent_name': '텍스트작성Agent'}, {'agent_name': '이미지생성Agent'}, {'agent_name': '동영상편집Agent'}]}}, {'agent_name': '콘텐츠통합Agent'}]}\n"
     ]
    }
   ],
   "source": [
    "from langchain_core.output_parsers import JsonOutputParser\n",
    "from typing import Any, Dict, List, Literal, Optional\n",
    "from pydantic import BaseModel, Field\n",
    "\n",
    "\n",
    "class Flow(BaseModel):\n",
    "    \"\"\"\n",
    "    단일 공개 모델.\n",
    "    - type == 'LLM'       → tools 필수, sub_agents 금지\n",
    "    - type in others      → sub_agents 필수, tools 금지\n",
    "    - sub_agents 원소는 {\"agent_name\": str} 또는 {\"flow\": Flow} (재귀)\n",
    "    - 모든 dict는 예상 키만 허용\n",
    "    \"\"\"\n",
    "\n",
    "    flow_name: str = Field(description=\"플로우 이름\")\n",
    "    type: Literal[\"LLM\", \"Sequential\", \"Loop\", \"Parallel\"]\n",
    "\n",
    "    # 단일 모델을 유지하기 위해 도메인 타입을 dict로 받고, 후처리 검증으로 엄격히 검사\n",
    "    tools: Optional[List[Dict[str, Any]]] = Field(\n",
    "        default=None, description=\"LLM 전용: [{'agent_name': str}, ...]\"\n",
    "    )\n",
    "    sub_agents: Optional[List[Dict[str, Any]]] = Field(\n",
    "        default=None, description=\"Sequential/Loop/Parallel 전용: [{'agent_name': str} | {'flow': Flow}, ...]\"\n",
    "    )\n",
    "\n",
    "\n",
    "parser_1 = JsonOutputParser(pydantic_object=Flow)\n",
    "# print(parser.get_format_instructions())\n",
    "\n",
    "prompt_1 = ChatPromptTemplate.from_template(JSON_PROMPT)\n",
    "prompt_1 = prompt_1.partial(format_instructions=parser_1.get_format_instructions())\n",
    "chain_1 = prompt_1 | llm | parser_1  # 체인을 구성합니다.\n",
    "\n",
    "result_1 = chain_1.invoke({\"instruction\": test_instruction})\n",
    "print(result_1)"
   ]
  },
  {
   "cell_type": "markdown",
   "id": "5acf4a6b",
   "metadata": {},
   "source": [
    "## PydanticParser"
   ]
  },
  {
   "cell_type": "code",
   "execution_count": 12,
   "id": "86e74ba4",
   "metadata": {},
   "outputs": [
    {
     "name": "stdout",
     "output_type": "stream",
     "text": [
      "{'flow_name': 'ContentCreationPipeline', 'type': 'Sequential', 'tools': None, 'sub_agents': [{'flow': {'flow_name': 'ConcurrentContentCreation', 'type': 'Parallel', 'sub_agents': [{'agent_name': '텍스트작성Agent'}, {'agent_name': '이미지생성Agent'}, {'agent_name': '동영상편집Agent'}]}}, {'agent_name': '콘텐츠통합Agent'}]}\n"
     ]
    }
   ],
   "source": [
    "from langchain_core.output_parsers import PydanticOutputParser\n",
    "from typing import Any, Dict, List, Literal, Optional\n",
    "from pydantic import BaseModel, Field\n",
    "\n",
    "\n",
    "class Flow(BaseModel):\n",
    "    \"\"\"\n",
    "    단일 공개 모델.\n",
    "    - type == 'LLM'       → tools 필수, sub_agents 금지\n",
    "    - type in others      → sub_agents 필수, tools 금지\n",
    "    - sub_agents 원소는 {\"agent_name\": str} 또는 {\"flow\": Flow} (재귀)\n",
    "    - 모든 dict는 예상 키만 허용\n",
    "    \"\"\"\n",
    "\n",
    "    flow_name: str = Field(description=\"플로우 이름\")\n",
    "    type: Literal[\"LLM\", \"Sequential\", \"Loop\", \"Parallel\"]\n",
    "\n",
    "    # 단일 모델을 유지하기 위해 도메인 타입을 dict로 받고, 후처리 검증으로 엄격히 검사\n",
    "    tools: Optional[List[Dict[str, Any]]] = Field(\n",
    "        default=None, description=\"LLM 전용: [{'agent_name': str}, ...]\"\n",
    "    )\n",
    "    sub_agents: Optional[List[Dict[str, Any]]] = Field(\n",
    "        default=None, description=\"Sequential/Loop/Parallel 전용: [{'agent_name': str} | {'flow': Flow}, ...]\"\n",
    "    )\n",
    "\n",
    "    \n",
    "\n",
    "# Parser 생성\n",
    "parser_2 = PydanticOutputParser(pydantic_object=Flow)\n",
    "\n",
    "# Prompt 템플릿 준비\n",
    "prompt_2 = ChatPromptTemplate.from_template(JSON_PROMPT)\n",
    "prompt_2 = prompt_2.partial(format_instructions=parser_2.get_format_instructions())\n",
    "\n",
    "# 체인 구성\n",
    "chain_2 = prompt_2 | llm | parser_2\n",
    "\n",
    "# 실행\n",
    "result: Flow = chain_2.invoke({\"instruction\": test_instruction})\n",
    "\n",
    "\n",
    "# 2. Dict 변환\n",
    "result_dict = result.dict()\n",
    "print(result_dict)"
   ]
  },
  {
   "cell_type": "markdown",
   "id": "f282e3c5",
   "metadata": {},
   "source": [
    "## Structured Output"
   ]
  },
  {
   "cell_type": "code",
   "execution_count": 15,
   "id": "a68cdcf8",
   "metadata": {},
   "outputs": [
    {
     "name": "stdout",
     "output_type": "stream",
     "text": [
      "{'flow_name': 'ContentCreationPipeline', 'type': 'Sequential', 'tools': None, 'sub_agents': [{'flow': {'flow_name': 'SimultaneousContentCreation', 'type': 'Parallel', 'sub_agents': [{'agent_name': '텍스트작성Agent'}, {'agent_name': '이미지생성Agent'}, {'agent_name': '동영상편집Agent'}]}}, {'agent_name': '콘텐츠통합Agent'}]}\n"
     ]
    }
   ],
   "source": [
    "from langchain_openai import ChatOpenAI\n",
    "from pydantic import BaseModel, Field\n",
    "\n",
    "class Flow(BaseModel):\n",
    "    \"\"\"\n",
    "    단일 공개 모델.\n",
    "    - type == 'LLM'       → tools 필수, sub_agents 금지\n",
    "    - type in others      → sub_agents 필수, tools 금지\n",
    "    - sub_agents 원소는 {\"agent_name\": str} 또는 {\"flow\": Flow} (재귀)\n",
    "    - 모든 dict는 예상 키만 허용\n",
    "    \"\"\"\n",
    "\n",
    "    flow_name: str = Field(description=\"플로우 이름\")\n",
    "    type: Literal[\"LLM\", \"Sequential\", \"Loop\", \"Parallel\"]\n",
    "\n",
    "    # 단일 모델을 유지하기 위해 도메인 타입을 dict로 받고, 후처리 검증으로 엄격히 검사\n",
    "    tools: Optional[List[Dict[str, Any]]] = Field(\n",
    "        default=None, description=\"LLM 전용: [{'agent_name': str}, ...]\"\n",
    "    )\n",
    "    sub_agents: Optional[List[Dict[str, Any]]] = Field(\n",
    "        default=None, description=\"Sequential/Loop/Parallel 전용: [{'agent_name': str} | {'flow': Flow}, ...]\"\n",
    "    )\n",
    "\n",
    "\n",
    "llm_with_strucutre = llm.with_structured_output(Flow)\n",
    "# Bind responseformatter schema as a tool to the model\n",
    "\n",
    "prompt_3 = ChatPromptTemplate.from_template(JSON_PROMPT)\n",
    "chain_3 = prompt_3 | llm_with_strucutre\n",
    "\n",
    "ai_msg = chain_3.invoke({\"instruction\": test_instruction})\n",
    "\n",
    "result_dict = ai_msg.dict()\n",
    "print(result_dict)"
   ]
  },
  {
   "cell_type": "code",
   "execution_count": 24,
   "id": "5ff49f9c",
   "metadata": {},
   "outputs": [
    {
     "name": "stdout",
     "output_type": "stream",
     "text": [
      "{\"flow_name\": \"ContentCreationPipeline\", \"type\": \"Sequential\", \"sub_agents\": [{\"flow\": {\"flow_name\": \"ConcurrentContentCreation\", \"type\": \"Parallel\", \"sub_agents\": [{\"agent_name\": \"텍스트작성Agent\"}, {\"agent_name\": \"이미지생성Agent\"}, {\"agent_name\": \"동영상편집Agent\"}]}}, {\"agent_name\": \"콘텐츠통합Agent\"}]}\n",
      "{'flow_name': 'ContentCreationPipeline', 'type': 'Sequential', 'sub_agents': [{'flow': {'flow_name': 'ConcurrentContentCreation', 'type': 'Parallel', 'sub_agents': [{'agent_name': '텍스트작성Agent'}, {'agent_name': '이미지생성Agent'}, {'agent_name': '동영상편집Agent'}]}}, {'agent_name': '콘텐츠통합Agent'}]}\n",
      "{'flow_name': 'ContentCreationPipeline', 'type': 'Sequential', 'tools': None, 'sub_agents': [{'flow': {'flow_name': 'ConcurrentContentCreation', 'type': 'Parallel', 'sub_agents': [{'agent_name': '텍스트작성Agent'}, {'agent_name': '이미지생성Agent'}, {'agent_name': '동영상편집Agent'}]}}, {'agent_name': '콘텐츠통합Agent'}]}\n",
      "{'flow_name': '콘텐츠 제작 시스템', 'type': 'Parallel', 'tools': None, 'sub_agents': [{'agent_name': '텍스트작성Agent'}, {'agent_name': '이미지생성Agent'}, {'agent_name': '동영상편집Agent'}]}\n",
      "\n",
      "=== 성능 비교 결과 ===\n",
      "                      Method  Success  Fail  Avg_Time(s)\n",
      "0  Baseline(StrOutputParser)        1     0         1.88\n",
      "1           JsonOutputParser        1     0         1.81\n",
      "2       PydanticOutputParser        1     0         3.41\n",
      "3     with_structured_output        1     0         1.26\n"
     ]
    }
   ],
   "source": [
    "import time\n",
    "import pandas as pd\n",
    "from typing import Any, Dict, List, Literal, Optional\n",
    "from pydantic import BaseModel, Field\n",
    "from langchain_core.prompts import ChatPromptTemplate\n",
    "from langchain_core.output_parsers import JsonOutputParser, PydanticOutputParser, StrOutputParser\n",
    "from langchain_openai import ChatOpenAI\n",
    "from prompts import JSON_PROMPT\n",
    "\n",
    "# ==== 모델 정의 ====\n",
    "class Flow(BaseModel):\n",
    "    \"\"\"\n",
    "    단일 공개 모델.\n",
    "    - type == 'LLM'       → tools 필수, sub_agents 금지\n",
    "    - type in others      → sub_agents 필수, tools 금지\n",
    "    - sub_agents 원소는 {\"agent_name\": str} 또는 {\"flow\": Flow} (재귀)\n",
    "    - 모든 dict는 예상 키만 허용\n",
    "    \"\"\"\n",
    "    flow_name: str = Field(description=\"플로우 이름\")\n",
    "    type: Literal[\"LLM\", \"Sequential\", \"Loop\", \"Parallel\"]\n",
    "    tools: Optional[List[Dict[str, Any]]] = Field(\n",
    "        default=None, description=\"LLM 전용: [{'agent_name': str}, ...]\"\n",
    "    )\n",
    "    sub_agents: Optional[List[Dict[str, Any]]] = Field(\n",
    "        default=None, description=\"Sequential/Loop/Parallel 전용: [{'agent_name': str} | {'flow': Flow}, ...]\"\n",
    "    )\n",
    "\n",
    "\n",
    "# ==== 공통 세팅 ====\n",
    "llm = ChatOpenAI(model=\"gpt-4o-mini\", temperature=0)\n",
    "prompt = ChatPromptTemplate.from_template(JSON_PROMPT)\n",
    "test_instruction = \"콘텐츠 제작을 효율적으로 하는 시스템을 구축해줘. {텍스트작성Agent}, {이미지생성Agent}, {동영상편집Agent}가 동시에 작업하고 {콘텐츠통합Agent}가 최종 결과물을 만들도록 해\"\n",
    "\n",
    "\n",
    "# ==== 0. Baseline: StrOutputParser ====\n",
    "parser_0 = StrOutputParser()\n",
    "prompt_0 = ChatPromptTemplate.from_template((JSON_PROMPT))\n",
    "chain_0 = prompt_0 | llm | parser_0\n",
    "\n",
    "\n",
    "# ==== 1. JsonOutputParser ====\n",
    "parser_1 = JsonOutputParser(pydantic_object=Flow)\n",
    "prompt_1 = ChatPromptTemplate.from_template(JSON_PROMPT).partial(\n",
    "    format_instructions=parser_1.get_format_instructions()\n",
    ")\n",
    "chain_1 = prompt_1 | llm | parser_1\n",
    "\n",
    "\n",
    "# ==== 2. PydanticOutputParser ====\n",
    "parser_2 = PydanticOutputParser(pydantic_object=Flow)\n",
    "prompt_2 = ChatPromptTemplate.from_template(JSON_PROMPT).partial(\n",
    "    format_instructions=parser_2.get_format_instructions()\n",
    ")\n",
    "chain_2 = prompt_2 | llm | parser_2\n",
    "\n",
    "\n",
    "# ==== 3. with_structured_output ====\n",
    "llm_structured = llm.with_structured_output(Flow)\n",
    "prompt_3 = ChatPromptTemplate.from_template(\"Instruction: {instruction}\")\n",
    "chain_3 = prompt_3 | llm_structured\n",
    "\n",
    "\n",
    "# ==== 성능 테스트 ====\n",
    "def run_chain(chain, name: str, n: int = 5):\n",
    "    success, fail, durations = 0, 0, []\n",
    "    results = []\n",
    "\n",
    "    for i in range(n):\n",
    "        start = time.time()\n",
    "        try:\n",
    "            result = chain.invoke({\"instruction\": test_instruction})\n",
    "\n",
    "            if isinstance(result, BaseModel):\n",
    "                result = result.dict()\n",
    "            print(result)\n",
    "\n",
    "            results.append(result)\n",
    "            success += 1\n",
    "        except Exception as e:\n",
    "            print(f\"[{name}] Run {i+1} failed: {e}\")\n",
    "            fail += 1\n",
    "        durations.append(time.time() - start)\n",
    "\n",
    "    avg_time = sum(durations) / len(durations)\n",
    "    return {\n",
    "        \"Method\": name,\n",
    "        \"Success\": success,\n",
    "        \"Fail\": fail,\n",
    "        \"Avg_Time(s)\": round(avg_time, 2),\n",
    "        \"Samples\": results[:2],  # 샘플 2개만 표시\n",
    "    }\n",
    "\n",
    "\n",
    "if __name__ == \"__main__\":\n",
    "    N = 1  # 반복 횟수\n",
    "    results = []\n",
    "    results.append(run_chain(chain_0, \"Baseline(StrOutputParser)\", N))\n",
    "    results.append(run_chain(chain_1, \"JsonOutputParser\", N))\n",
    "    results.append(run_chain(chain_2, \"PydanticOutputParser\", N))\n",
    "    results.append(run_chain(chain_3, \"with_structured_output\", N))\n",
    "\n",
    "    # 표 출력\n",
    "    df = pd.DataFrame(results)\n",
    "    print(\"\\n=== 성능 비교 결과 ===\")\n",
    "    print(df[[\"Method\", \"Success\", \"Fail\", \"Avg_Time(s)\"]])"
   ]
  },
  {
   "cell_type": "code",
   "execution_count": null,
   "id": "a96de9c0",
   "metadata": {},
   "outputs": [],
   "source": []
  }
 ],
 "metadata": {
  "kernelspec": {
   "display_name": "agent",
   "language": "python",
   "name": "python3"
  },
  "language_info": {
   "codemirror_mode": {
    "name": "ipython",
    "version": 3
   },
   "file_extension": ".py",
   "mimetype": "text/x-python",
   "name": "python",
   "nbconvert_exporter": "python",
   "pygments_lexer": "ipython3",
   "version": "3.11.12"
  }
 },
 "nbformat": 4,
 "nbformat_minor": 5
}
